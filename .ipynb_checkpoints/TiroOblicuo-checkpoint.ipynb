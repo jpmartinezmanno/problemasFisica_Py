{
 "cells": [
  {
   "cell_type": "markdown",
   "metadata": {},
   "source": [
    "# Ejemplo 3.7\n",
    "\n",
    "## Altura y alcance de un proyectil I: una pelota de béisbol bateada\n"
   ]
  },
  {
   "cell_type": "markdown",
   "metadata": {},
   "source": [
    "\n",
    "Un bateador golpea una pelota de béisbol de modo que esta sale del\n",
    "bate a una rapidez v0 = 37.0 ms con un ángulo a0 = 53.1°.\n",
    "a) Calcule la posición de la pelota y su velocidad (magnitud y dirección) cuando t = 2.00 s.\n",
    "b) Determine cuándo la pelota alcanza el punto más alto de su vuelo y su altura h en ese punto.\n",
    "c) Obtenga el alcance horizontal R, es decir, la distancia horizontal desde el punto de partida hasta donde\n",
    "la pelota cae al suelo."
   ]
  },
  {
   "cell_type": "markdown",
   "metadata": {},
   "source": [
    "## Resolución\n",
    "La resistencia del aire afecta significativamente el movimiento de una pelota de\n",
    "béisbol; no obstante, por sencillez, en este ejemplo la ignoraremos y\n",
    "usaremos las ecuaciones del movimiento de proyectiles para describir\n",
    "el movimiento. La pelota sale del bate en t = 0 a un metro más o menos\n",
    "arriba del suelo, pero ignoraremos esta distancia y supondremos que\n",
    "sale del nivel del suelo ($y_0$ = 0).\n",
    "Las incógnitas son a) la posición y velocidad de\n",
    "la pelota 2.00 s después de perder contacto con el bate; b) el tiempo t\n",
    "cuando la pelota alcanza su altura máxima (es decir, cuando $v_y$ = 0) y\n",
    "la coordenada y en ese momento, y c) la coordenada x cuando la pelota\n",
    "vuelve a tocar el suelo (y = 0).\n",
    "\n",
    "<img src=\"diagrama.png\" alt=\"drawing\" width=\"500\"/>\n",
    "\n",
    "a) Queremos obtener x, y, $v_x$ y $v_y$ en t = 2.00 s. La velocidad inicial de la pelota tiene las componentes:\n",
    "\n",
    "$$v_{0x} = v \\cos \\alpha_{0}$$\n",
    "$$v_{0y} = v \\sin \\alpha_{0}$$"
   ]
  },
  {
   "cell_type": "code",
   "execution_count": 1,
   "metadata": {},
   "outputs": [
    {
     "name": "stdout",
     "output_type": "stream",
     "text": [
      "v0_x = 22.2 m/s\n",
      "v0_y = 29.6 m/s\n"
     ]
    }
   ],
   "source": [
    "# Se importan las librerias de Python que se utilizaran en la resolución del problema.\n",
    "import numpy as np # Funciones matemáticas\n",
    "from scipy import constants # Constantes\n",
    "import matplotlib.pyplot as plt # Gráficos\n",
    "\n",
    "\n",
    "v0 = 37 # m/s\n",
    "alpha0 = 53.1 # °\n",
    "\n",
    "# De Numpy se utilizan las funciones trigonométricas y del modulo constants de Scipy \n",
    "# se utiliza la constante pi.\n",
    "v0_x = v0*np.cos(alpha0*constants.pi/180) \n",
    "v0_y = v0*np.sin(alpha0*constants.pi/180)\n",
    "\n",
    "print(f'v0_x = {v0_x:.1f} m/s')\n",
    "print(f'v0_y = {v0_y:.1f} m/s')"
   ]
  },
  {
   "cell_type": "markdown",
   "metadata": {},
   "source": [
    "De acuerdo con:\n",
    "$$ x = (v_0 \\cos \\alpha_0)t$$\n",
    "$$ y = (v_0 \\sin \\alpha_0)t - \\frac{1}{2} g t^2$$\n",
    "$$ v_x = (v_0 \\cos \\alpha_0)$$\n",
    "$$ v_y = (v_0 \\sin \\alpha_0)t - g t$$"
   ]
  },
  {
   "cell_type": "code",
   "execution_count": 2,
   "metadata": {},
   "outputs": [
    {
     "name": "stdout",
     "output_type": "stream",
     "text": [
      "x = 44.4 m\n",
      "y = 39.6 m\n",
      "v_x = 22.2 m/s\n",
      "v_y = 10.0 m/s\n"
     ]
    }
   ],
   "source": [
    "t = 2.0 # s\n",
    "\n",
    "x = v0_x * t\n",
    "y = (v0_y * t) - (1/2 * constants.g * t**2) # Del modulo constants de Scipy se utiliza la constante g.\n",
    "v_x = v0_x\n",
    "v_y = v0_y - (constants.g * t)\n",
    "\n",
    "print(f'x = {x:.1f} m')\n",
    "print(f'y = {y:.1f} m')\n",
    "print(f'v_x = {v_x:.1f} m/s')\n",
    "print(f'v_y = {v_y:.1f} m/s')"
   ]
  },
  {
   "cell_type": "markdown",
   "metadata": {},
   "source": [
    "La componente y de la velocidad es positiva en t = 2.00 s, de modo que\n",
    "la pelota todavía va en ascenso. La magnitud y dirección\n",
    "de la velocidad se obtienen de las siguiente ecuaciones:\n",
    "$$v = \\sqrt{v^2_x + v^2_y}$$\n",
    "$$tan \\alpha = \\frac{v_y}{v_x}$$"
   ]
  },
  {
   "cell_type": "code",
   "execution_count": 3,
   "metadata": {},
   "outputs": [
    {
     "name": "stdout",
     "output_type": "stream",
     "text": [
      "v = 24.4 m/s\n",
      "alpha = 24.2°\n"
     ]
    }
   ],
   "source": [
    "v = np.sqrt(v_x**2 + v_y**2)\n",
    "alpha = np.arctan(v_y/v_x) * 180/constants.pi\n",
    "\n",
    "print(f'v = {v:.1f} m/s')\n",
    "print(f'alpha = {alpha:.1f}°')"
   ]
  },
  {
   "cell_type": "markdown",
   "metadata": {},
   "source": [
    "b) En el punto más alto, la velocidad vertical $v_y$ es cero. Sea ese\n",
    "instante $t_1$; entonces,\n",
    "$$ v_y = v_{0y} - gt_1 = 0$$\n",
    "$$t_1 = \\frac{v_{0y}}{g}$$\n",
    "\n",
    "La altura h en el punto más alto es el valor de y cuando t = $t_1$:\n",
    "$$h = v_{0y}t_1 - \\frac{1}{2}gt^2_1$$"
   ]
  },
  {
   "cell_type": "code",
   "execution_count": 4,
   "metadata": {},
   "outputs": [
    {
     "name": "stdout",
     "output_type": "stream",
     "text": [
      "t1 = 3.02 s\n",
      "h = 44.6 m\n"
     ]
    }
   ],
   "source": [
    "t1 = v0_y / constants.g\n",
    "altura = v0_y * t1 - 1/2 * constants.g * t1**2\n",
    "\n",
    "print(f't1 = {t1:.2f} s')\n",
    "print(f'h = {altura:.1f} m')"
   ]
  },
  {
   "cell_type": "markdown",
   "metadata": {},
   "source": [
    "c) Obtendremos el alcance horizontal en dos pasos. Primero, determinamos el tiempo t2 cuando y = 0,\n",
    "$$y = 0 = v_{0y}t_2 - \\frac{1}{2}gt^2_2=t_2(v_{0y}-\\frac{1}{2}gt_2)$$\n",
    "La cual es una ecuación cuadrática en $t_2$"
   ]
  },
  {
   "cell_type": "code",
   "execution_count": 5,
   "metadata": {},
   "outputs": [
    {
     "name": "stdout",
     "output_type": "stream",
     "text": [
      "t2_1 = raiz 1 = 0.00 s\n",
      "t2_2 = raiz 2 = 6.03 s\n"
     ]
    }
   ],
   "source": [
    "# Se calculan las raíces utilizando la clase Poly1d de Numpy.\n",
    "# En primer lugar se ingresan las constantes de la ecuación cuadrática en el formato [A, B, C], por lo\n",
    "# que el polinomio se arma así: p = np.poly1d([A, B, C]).\n",
    "p = np.poly1d([-1/2*constants.g, v0_y, 0])\n",
    "\n",
    "# Luego, mediante ell método r se calculan las raíces del polinomio p.\n",
    "raices = p.r\n",
    "\n",
    "print(f't2_1 = raiz 1 = {raices[1]:.2f} s')\n",
    "print(f't2_2 = raiz 2 = {raices[0]:.2f} s')"
   ]
  },
  {
   "cell_type": "markdown",
   "metadata": {},
   "source": [
    "La pelota está en y = 0 en estos dos tiempos. La pelota abandona el\n",
    "suelo en $t_2$ = 0, y en $t_2 = \\frac{2v_{0y}}{g}$ es cuando regresa al suelo.\n",
    "El alcance horizontal R es el valor de x cuando la pelota vuelve\n",
    "al suelo, en $t_2$ = 6.03 s,\n",
    "$$R = v_{0x}t_2$$\n",
    "La componente vertical de la velocidad cuando la pelota toca el\n",
    "suelo es,\n",
    "$$v_y = v_{0y} - gt_2$$"
   ]
  },
  {
   "cell_type": "code",
   "execution_count": 6,
   "metadata": {},
   "outputs": [
    {
     "name": "stdout",
     "output_type": "stream",
     "text": [
      "R = 134.1 m\n",
      "v_y = -29.6 m/s\n"
     ]
    }
   ],
   "source": [
    "t2 = raices[0]\n",
    "alcance = v0_x * t2\n",
    "v_y = v0_y - (constants.g * t2)\n",
    "\n",
    "print(f'R = {alcance:.1f} m')\n",
    "print(f'v_y = {v_y:.1f} m/s')"
   ]
  },
  {
   "cell_type": "markdown",
   "metadata": {},
   "source": [
    "Es decir, $v_y$ tiene la misma magnitud que la velocidad vertical inicial $v_{0y}$ pero dirección opuesta (hacia abajo). Como $v_x$ es constante, el ángulo $\\alpha = -53.1°$ (debajo de la horizontal) en este punto es el negativo del ángulo inicial $\\alpha_0 = 53.1°$."
   ]
  },
  {
   "cell_type": "code",
   "execution_count": 7,
   "metadata": {},
   "outputs": [
    {
     "data": {
      "application/vnd.jupyter.widget-view+json": {
       "model_id": "4d9de43613ec48b48778feb12bc87aeb",
       "version_major": 2,
       "version_minor": 0
      },
      "text/plain": [
       "interactive(children=(FloatSlider(value=0.0, description='R', max=300.0), FloatSlider(value=0.0, description='…"
      ]
     },
     "metadata": {},
     "output_type": "display_data"
    },
    {
     "data": {
      "text/plain": [
       "<function __main__.f(R, h)>"
      ]
     },
     "execution_count": 7,
     "metadata": {},
     "output_type": "execute_result"
    }
   ],
   "source": [
    "from __future__ import print_function\n",
    "from ipywidgets import interact, interactive, fixed, interact_manual\n",
    "import ipywidgets as widgets\n",
    "\n",
    "xs = np.arange(0, 2*v0_x*v0_y/constants.g, 0.01)\n",
    "ys = -(constants.g*(np.square(np.tan(np.radians(alpha0))) + 1)/(2*np.square(v0))) * np.square(xs) + np.tan(np.radians(alpha0)) * xs\n",
    "\n",
    "def f(R, h):\n",
    "    x = np.arange(0, R, 0.1)\n",
    "    y = ((-4*h/np.square(R)) * np.square(x-(R/2))) + h\n",
    "    plt.figure(figsize=(10,5))\n",
    "    plt.grid(True)\n",
    "    plt.plot(xs, ys, color='r', label='Trayectoria correcta', linewidth=3.0)\n",
    "    plt.plot(x, y, 'b--', label='Trayectoria calculada', linewidth=2.5)\n",
    "    plt.ylabel('Altura', fontsize = 20)\n",
    "    plt.xlabel('Alcance', fontsize = 20)\n",
    "    plt.axis([0, 150, 0, 60])\n",
    "    plt.annotate('altura max', xy=(alcance/2, altura), xytext=(20, altura+10),\n",
    "             arrowprops=dict(facecolor='grey', shrink=0.1),\n",
    "             )\n",
    "    plt.annotate('alcance', xy=(alcance, 0), xytext=(alcance, 30),\n",
    "             arrowprops=dict(facecolor='grey', shrink=0.1),\n",
    "             )\n",
    "    plt.legend(loc=1, fontsize = 12)\n",
    "interact(f, R=widgets.FloatSlider(min=0, max=300, step=0.1, value=0), h=widgets.FloatSlider(min=0, max=100, step=0.1, value=0))\n"
   ]
  }
 ],
 "metadata": {
  "kernelspec": {
   "display_name": "Python 3 (ipykernel)",
   "language": "python",
   "name": "python3"
  },
  "language_info": {
   "codemirror_mode": {
    "name": "ipython",
    "version": 3
   },
   "file_extension": ".py",
   "mimetype": "text/x-python",
   "name": "python",
   "nbconvert_exporter": "python",
   "pygments_lexer": "ipython3",
   "version": "3.8.13"
  },
  "vscode": {
   "interpreter": {
    "hash": "4ceab3998f81ca3e0f091627d33ad17a539a5bee7e37767b6256ec2cbc0df06e"
   }
  }
 },
 "nbformat": 4,
 "nbformat_minor": 2
}
