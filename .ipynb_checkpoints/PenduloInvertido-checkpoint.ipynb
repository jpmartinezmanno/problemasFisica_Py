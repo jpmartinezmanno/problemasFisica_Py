{
 "cells": [
  {
   "cell_type": "markdown",
   "metadata": {},
   "source": [
    "# Péndulo simple y péndulo físico"
   ]
  },
  {
   "cell_type": "markdown",
   "metadata": {},
   "source": [
    "Calcule el periodo y la frecuencia de un péndulo simple de 1.000 m de longitud en un lugar donde g = 9.800 $m/s^2$.\n",
    "\n",
    "Teniendo en cuenta la aproximación de pequeños ángulos para un péndulo simple,\n",
    "$$T = 2 \\pi \\sqrt{\\frac{L}{g}}$$"
   ]
  },
  {
   "cell_type": "code",
   "execution_count": 3,
   "metadata": {},
   "outputs": [
    {
     "name": "stdout",
     "output_type": "stream",
     "text": [
      "T = 2.0 s\n",
      "f = 0.5 Hz\n"
     ]
    }
   ],
   "source": [
    "import numpy as np # Funciones matemáticas\n",
    "from scipy import constants # Constantes\n",
    "import matplotlib.pyplot as plt # Gráficos\n",
    "\n",
    "L = 1.0 # m\n",
    "T = 2*constants.pi*np.sqrt(L/constants.g)\n",
    "f = T**-1\n",
    "\n",
    "print(f'T = {T:.1f} s')\n",
    "print(f'f = {f:.1f} Hz')"
   ]
  },
  {
   "cell_type": "markdown",
   "metadata": {},
   "source": [
    "Ahora se trata al péndulo anterior como una varilla uniforme de masa M por lo que actúa como un péndulo físico. El momento de inercia de dicha varilla respecto a un eje que pasa por su extremo viene dado por,\n",
    "$$I = \\frac{1}{3}ML^2$$\n",
    "La distancia del pivote al centro de gravedad de la varilla es,\n",
    "$$d = \\frac{L}{2}$$\n",
    "El período de oscilación de dicho péndulo viene dado por,\n",
    "$$T = 2 \\pi \\sqrt{\\frac{I}{mgd}} = 2 \\pi \\sqrt{\\frac{\\frac{1}{3} ML^2}{Mg \\frac{L}{2}}} = 2 \\pi \\sqrt{\\frac{2L}{3g}}$$"
   ]
  },
  {
   "cell_type": "code",
   "execution_count": 8,
   "metadata": {},
   "outputs": [
    {
     "name": "stdout",
     "output_type": "stream",
     "text": [
      "T = 1.6 s\n",
      "Tfisico/Tsimple = 0.82\n"
     ]
    }
   ],
   "source": [
    "Tfis = 2*constants.pi*np.sqrt(2*L/(3*constants.g))\n",
    "\n",
    "print(f'T = {Tfis:.1f} s')\n",
    "print(f'Tfisico/Tsimple = {Tfis/T:.2f}')"
   ]
  },
  {
   "cell_type": "markdown",
   "metadata": {},
   "source": [
    "Se observa que el período del péndulo físico respecto al péndulo simple es menor en un factor 0,82. Se puede ver que el momento de inercia de la varilla alrededor de un extremo es un tercio del que tiene un péndulo simple, y el centro de gravedad de la varilla está a la mitad de la distancia a partir del pivote, en comparación con un péndulo simple. Estas diferencias junto con la ecuación con la que se obtiene el período del péndulo físico contribuyen al factor $\\sqrt{\\frac{2}{3}} \\approx 0.82$ con el que difieren los dos modelos."
   ]
  },
  {
   "cell_type": "code",
   "execution_count": 23,
   "metadata": {},
   "outputs": [
    {
     "data": {
      "application/vnd.jupyter.widget-view+json": {
       "model_id": "2db4d534658d428887ebbf4d0466d27b",
       "version_major": 2,
       "version_minor": 0
      },
      "text/plain": [
       "interactive(children=(FloatSlider(value=0.1, description='simple', max=5.0), FloatSlider(value=0.1, descriptio…"
      ]
     },
     "metadata": {},
     "output_type": "display_data"
    },
    {
     "data": {
      "text/plain": [
       "<function __main__.f(simple, fisico)>"
      ]
     },
     "execution_count": 23,
     "metadata": {},
     "output_type": "execute_result"
    }
   ],
   "source": [
    "from __future__ import print_function\n",
    "from ipywidgets import interact, interactive, fixed, interact_manual\n",
    "import ipywidgets as widgets\n",
    "\n",
    "def f (simple, fisico):\n",
    "    t = np.arange(0, 100, 0.1)\n",
    "    x_sim = np.cos((2*constants.pi/T)*t)\n",
    "    x_fis = np.cos((2*constants.pi/Tfis)*t)\n",
    "    y_sim = np.cos((2*constants.pi/simple)*t)\n",
    "    y_fis = np.cos((2*constants.pi/fisico)*t)\n",
    "    \n",
    "    plt.figure(figsize=(10,5))\n",
    "    plt.grid(True)\n",
    "    plt.plot(t, x_sim, 'r', label='Pendulo simple', linewidth=2)\n",
    "    plt.plot(t, x_fis, 'b', label='Pendulo físico', linewidth=2)\n",
    "    plt.plot(t, y_sim, 'r--', label='Pendulo simple', linewidth=3)\n",
    "    plt.plot(t, y_fis, 'b--', label='Pendulo físico', linewidth=3)\n",
    "\n",
    "    plt.ylabel('desplazamiento', fontsize = 20)\n",
    "    plt.xlabel('tiempo', fontsize = 20)\n",
    "    plt.axis([0, 10, -1.5, 1.5])\n",
    "    plt.legend(loc=1, fontsize = 12)\n",
    "interact(f, simple=widgets.FloatSlider(min=0, max=5, step=0.1, value=0.1), fisico=widgets.FloatSlider(min=0, max=5, step=0.1, value=0.1))"
   ]
  },
  {
   "cell_type": "code",
   "execution_count": 27,
   "metadata": {},
   "outputs": [
    {
     "ename": "RuntimeError",
     "evalue": "Requested MovieWriter (ffmpeg) not available",
     "output_type": "error",
     "traceback": [
      "\u001b[1;31m---------------------------------------------------------------------------\u001b[0m",
      "\u001b[1;31mRuntimeError\u001b[0m                              Traceback (most recent call last)",
      "Input \u001b[1;32mIn [27]\u001b[0m, in \u001b[0;36m<cell line: 108>\u001b[1;34m()\u001b[0m\n\u001b[0;32m    105\u001b[0m plt\u001b[38;5;241m.\u001b[39mclose(anim\u001b[38;5;241m.\u001b[39m_fig)\n\u001b[0;32m    107\u001b[0m \u001b[38;5;66;03m# Y la mostramos\u001b[39;00m\n\u001b[1;32m--> 108\u001b[0m HTML(\u001b[43manim\u001b[49m\u001b[38;5;241;43m.\u001b[39;49m\u001b[43mto_html5_video\u001b[49m\u001b[43m(\u001b[49m\u001b[43m)\u001b[49m)\n",
      "File \u001b[1;32mC:\\Anaconda3\\lib\\site-packages\\matplotlib\\animation.py:1266\u001b[0m, in \u001b[0;36mAnimation.to_html5_video\u001b[1;34m(self, embed_limit)\u001b[0m\n\u001b[0;32m   1263\u001b[0m path \u001b[38;5;241m=\u001b[39m Path(tmpdir, \u001b[38;5;124m\"\u001b[39m\u001b[38;5;124mtemp.m4v\u001b[39m\u001b[38;5;124m\"\u001b[39m)\n\u001b[0;32m   1264\u001b[0m \u001b[38;5;66;03m# We create a writer manually so that we can get the\u001b[39;00m\n\u001b[0;32m   1265\u001b[0m \u001b[38;5;66;03m# appropriate size for the tag\u001b[39;00m\n\u001b[1;32m-> 1266\u001b[0m Writer \u001b[38;5;241m=\u001b[39m \u001b[43mwriters\u001b[49m\u001b[43m[\u001b[49m\u001b[43mmpl\u001b[49m\u001b[38;5;241;43m.\u001b[39;49m\u001b[43mrcParams\u001b[49m\u001b[43m[\u001b[49m\u001b[38;5;124;43m'\u001b[39;49m\u001b[38;5;124;43manimation.writer\u001b[39;49m\u001b[38;5;124;43m'\u001b[39;49m\u001b[43m]\u001b[49m\u001b[43m]\u001b[49m\n\u001b[0;32m   1267\u001b[0m writer \u001b[38;5;241m=\u001b[39m Writer(codec\u001b[38;5;241m=\u001b[39m\u001b[38;5;124m'\u001b[39m\u001b[38;5;124mh264\u001b[39m\u001b[38;5;124m'\u001b[39m,\n\u001b[0;32m   1268\u001b[0m                 bitrate\u001b[38;5;241m=\u001b[39mmpl\u001b[38;5;241m.\u001b[39mrcParams[\u001b[38;5;124m'\u001b[39m\u001b[38;5;124manimation.bitrate\u001b[39m\u001b[38;5;124m'\u001b[39m],\n\u001b[0;32m   1269\u001b[0m                 fps\u001b[38;5;241m=\u001b[39m\u001b[38;5;241m1000.\u001b[39m \u001b[38;5;241m/\u001b[39m \u001b[38;5;28mself\u001b[39m\u001b[38;5;241m.\u001b[39m_interval)\n\u001b[0;32m   1270\u001b[0m \u001b[38;5;28mself\u001b[39m\u001b[38;5;241m.\u001b[39msave(\u001b[38;5;28mstr\u001b[39m(path), writer\u001b[38;5;241m=\u001b[39mwriter)\n",
      "File \u001b[1;32mC:\\Anaconda3\\lib\\site-packages\\matplotlib\\animation.py:151\u001b[0m, in \u001b[0;36mMovieWriterRegistry.__getitem__\u001b[1;34m(self, name)\u001b[0m\n\u001b[0;32m    149\u001b[0m \u001b[38;5;28;01mif\u001b[39;00m \u001b[38;5;28mself\u001b[39m\u001b[38;5;241m.\u001b[39mis_available(name):\n\u001b[0;32m    150\u001b[0m     \u001b[38;5;28;01mreturn\u001b[39;00m \u001b[38;5;28mself\u001b[39m\u001b[38;5;241m.\u001b[39m_registered[name]\n\u001b[1;32m--> 151\u001b[0m \u001b[38;5;28;01mraise\u001b[39;00m \u001b[38;5;167;01mRuntimeError\u001b[39;00m(\u001b[38;5;124mf\u001b[39m\u001b[38;5;124m\"\u001b[39m\u001b[38;5;124mRequested MovieWriter (\u001b[39m\u001b[38;5;132;01m{\u001b[39;00mname\u001b[38;5;132;01m}\u001b[39;00m\u001b[38;5;124m) not available\u001b[39m\u001b[38;5;124m\"\u001b[39m)\n",
      "\u001b[1;31mRuntimeError\u001b[0m: Requested MovieWriter (ffmpeg) not available"
     ]
    }
   ],
   "source": [
    "t0   = 0.0\n",
    "tN   = 10.0\n",
    "N    = 500\n",
    "t    = np.linspace(t0,tN,N) #Genera un arreglo de N números entre t0 y tN, igualmente distribuidos\n",
    "x_Eu = np.zeros(N) ## Euler\n",
    "h    = (tN-t0)/N\n",
    "\n",
    "x_Eu[0] = 0\n",
    "\n",
    "for n in range(0,N-1):\n",
    "    x_Eu[n+1] = x_Eu[n] + h * (np.cos(x_Eu[n]) + np.sin(t[n]))\n",
    "\n",
    "theta01 = np.pi/12\n",
    "theta02 = np.pi/3\n",
    "T = 20\n",
    "n = 10000\n",
    "\n",
    "t = np.linspace(0, T, n + 1)\n",
    "dt = T/float(n)\n",
    "\n",
    "g = 9.81 # m/s^2\n",
    "L = 17   # m\n",
    "m = 400  # kg\n",
    "\n",
    "def approx(t, theta0):\n",
    "    \"\"\" Evaluando la aprox analítica. \"\"\"\n",
    "    return theta0*np.cos(t*(g/L)**(0.5))\n",
    "\n",
    "def RHS(theta, w, dt):\n",
    "    \"\"\" Devuelve el lado derecho de la EDO que \n",
    "    describe al pendulo simple.\n",
    "    \"\"\"\n",
    "    dw = -np.sin(theta)*dt*g/L\n",
    "    dtheta = w*dt\n",
    "    return dtheta, dw\n",
    "\n",
    "def euler_step(theta, w, dt):\n",
    "    \"\"\" Realiza un paso del metodo de Euler. \"\"\"\n",
    "    dtheta, dw = RHS(theta, w, dt)\n",
    "    w = w + dw\n",
    "    theta = theta + dtheta\n",
    "    return theta, w\n",
    "\n",
    "def euler_method(theta0, w0, dt, n):\n",
    "    \"\"\" Metodo de Euler. \"\"\"\n",
    "    theta = (n + 1)*[0]\n",
    "    w = (n + 1)*[0]\n",
    "    \n",
    "    theta[0] = theta0\n",
    "    w[0] = w0\n",
    "    for i in range(n):\n",
    "        theta[i + 1], w[i + 1] = euler_step(theta[i], w[i], dt) \n",
    "    \n",
    "    return theta, w\n",
    "\n",
    "theta1, w1 = euler_method(theta01, 0, dt, n)\n",
    "theta2, w2 = euler_method(theta02, 0, dt, n)\n",
    "\n",
    "g = 9.81    # m/s^2. Acel. Grav.\n",
    "m = 1.      # kg. Masa\n",
    "L = 1.      # m. Longitud de cuerda\n",
    "w0 = 10     # 1/s. Velocidad angular inicial\n",
    "theta0 = 3. # rad. Angulo inicial\n",
    "T = 20.     # s. Tiempo de simulación\n",
    "n = 100000  # Numero de pasos\n",
    "b = .5      # kg m. Factor de amortiguamiento\n",
    "\n",
    "\n",
    "t = np.linspace(0, T, n + 1)\n",
    "theta, _ = euler_method(theta0, w0, T/float(n), n)\n",
    "\n",
    "\n",
    "\n",
    "x = np.sin(theta)\n",
    "y = -np.cos(theta)\n",
    "\n",
    "from matplotlib import animation\n",
    "from IPython.display import HTML\n",
    "FPS=30\n",
    "plt.style.use('default')\n",
    "\n",
    "# Configuracion de la figura\n",
    "fig = plt.figure(figsize=(4, 4), dpi=60)\n",
    "ax = plt.axes(xlim=(-1.1, 1.1), ylim=(-1.1, 1.1))\n",
    "ax.set_aspect('equal')\n",
    "ax.axis('off')\n",
    "\n",
    "# Definir los diferentes elementos de la animacion\n",
    "rod, = ax.plot([], [], color=\"grey\", linewidth=2)\n",
    "ball = plt.Circle((x[0], y[0]), 0.1, fc=\"grey\")\n",
    "ax.add_patch(ball)\n",
    "\n",
    "# Calcular el numero de pasos\n",
    "framesNum = int(FPS*t[-1])\n",
    "\n",
    "# Funcion de animacion. Es una forma secuencial\n",
    "def animate(j):\n",
    "    i = j*int(n/framesNum)\n",
    "    ball.center = (x[i], y[i])\n",
    "    rod.set_data([0, x[i]], [0, y[i]])\n",
    "\n",
    "# Creamos la animacion\n",
    "anim = animation.FuncAnimation(fig, animate, frames=framesNum, interval=1000/FPS)\n",
    "\n",
    "plt.close(anim._fig)\n",
    "\n",
    "# Y la mostramos\n",
    "HTML(anim.to_html5_video())"
   ]
  },
  {
   "cell_type": "code",
   "execution_count": null,
   "metadata": {},
   "outputs": [],
   "source": []
  }
 ],
 "metadata": {
  "kernelspec": {
   "display_name": "Python 3 (ipykernel)",
   "language": "python",
   "name": "python3"
  },
  "language_info": {
   "codemirror_mode": {
    "name": "ipython",
    "version": 3
   },
   "file_extension": ".py",
   "mimetype": "text/x-python",
   "name": "python",
   "nbconvert_exporter": "python",
   "pygments_lexer": "ipython3",
   "version": "3.8.13"
  }
 },
 "nbformat": 4,
 "nbformat_minor": 2
}
